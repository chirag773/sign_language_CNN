{
  "nbformat": 4,
  "nbformat_minor": 0,
  "metadata": {
    "colab": {
      "name": "Sign_Language_asl_alphabets.ipynb",
      "version": "0.3.2",
      "provenance": [],
      "collapsed_sections": []
    },
    "kernelspec": {
      "name": "python3",
      "display_name": "Python 3"
    },
    "accelerator": "GPU"
  },
  "cells": [
    {
      "metadata": {
        "id": "j-8kyHTGKYJk",
        "colab_type": "code",
        "colab": {
          "base_uri": "https://localhost:8080/",
          "height": 122
        },
        "outputId": "f56df01c-e1da-41b0-a64d-ebdef326aba4"
      },
      "cell_type": "code",
      "source": [
        "from google.colab import drive\n",
        "drive.mount('/content/drive')"
      ],
      "execution_count": 1,
      "outputs": [
        {
          "output_type": "stream",
          "text": [
            "Go to this URL in a browser: https://accounts.google.com/o/oauth2/auth?client_id=947318989803-6bn6qk8qdgf4n4g3pfee6491hc0brc4i.apps.googleusercontent.com&redirect_uri=urn%3Aietf%3Awg%3Aoauth%3A2.0%3Aoob&scope=email%20https%3A%2F%2Fwww.googleapis.com%2Fauth%2Fdocs.test%20https%3A%2F%2Fwww.googleapis.com%2Fauth%2Fdrive%20https%3A%2F%2Fwww.googleapis.com%2Fauth%2Fdrive.photos.readonly%20https%3A%2F%2Fwww.googleapis.com%2Fauth%2Fpeopleapi.readonly&response_type=code\n",
            "\n",
            "Enter your authorization code:\n",
            "··········\n",
            "Mounted at /content/drive\n"
          ],
          "name": "stdout"
        }
      ]
    },
    {
      "metadata": {
        "id": "ld0IshY2ef_y",
        "colab_type": "code",
        "colab": {
          "base_uri": "https://localhost:8080/",
          "height": 34
        },
        "outputId": "a80abc00-0ef5-4b26-eecd-a46176029b95"
      },
      "cell_type": "code",
      "source": [
        "import tensorflow as tf\n",
        "from tensorflow.keras.models import Sequential\n",
        "from tensorflow.keras.layers import Dense, Dropout, Activation, Flatten\n",
        "from tensorflow.keras.layers import Conv2D, MaxPooling2D\n",
        "\n",
        "from keras.utils import to_categorical\n",
        "\n",
        "import pickle\n",
        "\n",
        "X = pickle.load(open(\"./drive/My Drive/Colab Notebooks/X.pickle\",\"rb\"))\n",
        "\n",
        "y = pickle.load(open(\"./drive/My Drive/Colab Notebooks/y.pickle\",\"rb\"))\n",
        "\n",
        "df_y =  to_categorical(y, num_classes=29)\n",
        "\n",
        "\n"
      ],
      "execution_count": 1,
      "outputs": [
        {
          "output_type": "stream",
          "text": [
            "Using TensorFlow backend.\n"
          ],
          "name": "stderr"
        }
      ]
    },
    {
      "metadata": {
        "id": "2cWgNG0VjDAr",
        "colab_type": "code",
        "colab": {
          "base_uri": "https://localhost:8080/",
          "height": 136
        },
        "outputId": "0b8a779b-4ce8-48e3-fe9b-a74d164940a9"
      },
      "cell_type": "code",
      "source": [
        "df_y"
      ],
      "execution_count": 2,
      "outputs": [
        {
          "output_type": "execute_result",
          "data": {
            "text/plain": [
              "array([[0., 0., 0., ..., 1., 0., 0.],\n",
              "       [0., 1., 0., ..., 0., 0., 0.],\n",
              "       [0., 0., 0., ..., 0., 0., 0.],\n",
              "       ...,\n",
              "       [0., 0., 1., ..., 0., 0., 0.],\n",
              "       [0., 0., 0., ..., 0., 0., 0.],\n",
              "       [0., 0., 0., ..., 0., 0., 0.]], dtype=float32)"
            ]
          },
          "metadata": {
            "tags": []
          },
          "execution_count": 2
        }
      ]
    },
    {
      "metadata": {
        "id": "aJzfYKWdfqsM",
        "colab_type": "code",
        "colab": {
          "base_uri": "https://localhost:8080/",
          "height": 34
        },
        "outputId": "113f47e4-54e8-42fe-bb76-b3ad6568a9d9"
      },
      "cell_type": "code",
      "source": [
        "X.shape[1:]"
      ],
      "execution_count": 3,
      "outputs": [
        {
          "output_type": "execute_result",
          "data": {
            "text/plain": [
              "(50, 50, 1)"
            ]
          },
          "metadata": {
            "tags": []
          },
          "execution_count": 3
        }
      ]
    },
    {
      "metadata": {
        "id": "Oyc7DvfbjhWO",
        "colab_type": "code",
        "colab": {}
      },
      "cell_type": "code",
      "source": [
        "from sklearn.model_selection import train_test_split\n",
        "\n",
        "x_train, x_test, y_train, y_test = train_test_split(X, df_y, test_size = 0.2, random_state = 101)\n"
      ],
      "execution_count": 0,
      "outputs": []
    },
    {
      "metadata": {
        "id": "4QvW3xn6lJh1",
        "colab_type": "code",
        "colab": {
          "base_uri": "https://localhost:8080/",
          "height": 34
        },
        "outputId": "9b63fae8-ac83-4cd2-d656-cbc1c301b051"
      },
      "cell_type": "code",
      "source": [
        "y_train.shape"
      ],
      "execution_count": 5,
      "outputs": [
        {
          "output_type": "execute_result",
          "data": {
            "text/plain": [
              "(69600, 29)"
            ]
          },
          "metadata": {
            "tags": []
          },
          "execution_count": 5
        }
      ]
    },
    {
      "metadata": {
        "id": "K9yLYI1DhWEf",
        "colab_type": "code",
        "colab": {
          "base_uri": "https://localhost:8080/",
          "height": 139
        },
        "outputId": "7895ae11-a4dc-4c8c-b4ed-be3a2d29ea89"
      },
      "cell_type": "code",
      "source": [
        "x_train = x_train / 255.0\n",
        "x_test = x_test / 255.0\n",
        "num_classes = 29\n",
        "\n",
        "model = Sequential()\n",
        "\n",
        "model.add( Conv2D(64, (3, 3),  input_shape=X.shape[1:]) )    # 64 neuron (3,3) window  \n",
        "model.add( Activation('relu') )\n",
        "model.add(MaxPooling2D(pool_size=(2, 2)))\n",
        "\n",
        "model.add( Conv2D(64, (3, 3)) )\n",
        "model.add( Activation('relu') )\n",
        "model.add( MaxPooling2D(pool_size=(2, 2) ))\n",
        "\n",
        "model.add( Conv2D(128, (3, 3)) )\n",
        "model.add( Activation('relu') )\n",
        "model.add( MaxPooling2D(pool_size=(2, 2)) )\n",
        "\n",
        "model.add( Conv2D(128, (3, 3)) )\n",
        "model.add( Activation('relu') )\n",
        "model.add( MaxPooling2D(pool_size=(2, 2)) )\n",
        "\n",
        "model.add(Flatten())  # this converts our 3D feature maps to 1D feature vectors\n",
        "\n",
        "model.add( Dense(64) )\n",
        "model.add( Activation('relu') )\n",
        "model.add( Dropout(0.5) )\n",
        "\n",
        "model.add( Dense(64) )\n",
        "model.add( Activation('relu') )\n",
        "model.add( Dropout(0.5) )\n",
        "\n",
        "model.add( Dense(num_classes) )\n",
        "model.add( Activation('softmax') )\n",
        "\n",
        "model.compile(loss='categorical_crossentropy',\n",
        "              optimizer='adam',\n",
        "              metrics=['accuracy'])\n"
      ],
      "execution_count": 6,
      "outputs": [
        {
          "output_type": "stream",
          "text": [
            "WARNING:tensorflow:From /usr/local/lib/python3.6/dist-packages/tensorflow/python/ops/resource_variable_ops.py:435: colocate_with (from tensorflow.python.framework.ops) is deprecated and will be removed in a future version.\n",
            "Instructions for updating:\n",
            "Colocations handled automatically by placer.\n",
            "WARNING:tensorflow:From /usr/local/lib/python3.6/dist-packages/tensorflow/python/keras/layers/core.py:143: calling dropout (from tensorflow.python.ops.nn_ops) with keep_prob is deprecated and will be removed in a future version.\n",
            "Instructions for updating:\n",
            "Please use `rate` instead of `keep_prob`. Rate should be set to `rate = 1 - keep_prob`.\n"
          ],
          "name": "stdout"
        }
      ]
    },
    {
      "metadata": {
        "id": "11jH6SrzgOgt",
        "colab_type": "code",
        "colab": {
          "base_uri": "https://localhost:8080/",
          "height": 850
        },
        "outputId": "4d63b5d5-fe26-41b8-c5e5-798beec03820"
      },
      "cell_type": "code",
      "source": [
        "model.summary()"
      ],
      "execution_count": 7,
      "outputs": [
        {
          "output_type": "stream",
          "text": [
            "_________________________________________________________________\n",
            "Layer (type)                 Output Shape              Param #   \n",
            "=================================================================\n",
            "conv2d (Conv2D)              (None, 48, 48, 64)        640       \n",
            "_________________________________________________________________\n",
            "activation (Activation)      (None, 48, 48, 64)        0         \n",
            "_________________________________________________________________\n",
            "max_pooling2d (MaxPooling2D) (None, 24, 24, 64)        0         \n",
            "_________________________________________________________________\n",
            "conv2d_1 (Conv2D)            (None, 22, 22, 64)        36928     \n",
            "_________________________________________________________________\n",
            "activation_1 (Activation)    (None, 22, 22, 64)        0         \n",
            "_________________________________________________________________\n",
            "max_pooling2d_1 (MaxPooling2 (None, 11, 11, 64)        0         \n",
            "_________________________________________________________________\n",
            "conv2d_2 (Conv2D)            (None, 9, 9, 128)         73856     \n",
            "_________________________________________________________________\n",
            "activation_2 (Activation)    (None, 9, 9, 128)         0         \n",
            "_________________________________________________________________\n",
            "max_pooling2d_2 (MaxPooling2 (None, 4, 4, 128)         0         \n",
            "_________________________________________________________________\n",
            "conv2d_3 (Conv2D)            (None, 2, 2, 128)         147584    \n",
            "_________________________________________________________________\n",
            "activation_3 (Activation)    (None, 2, 2, 128)         0         \n",
            "_________________________________________________________________\n",
            "max_pooling2d_3 (MaxPooling2 (None, 1, 1, 128)         0         \n",
            "_________________________________________________________________\n",
            "flatten (Flatten)            (None, 128)               0         \n",
            "_________________________________________________________________\n",
            "dense (Dense)                (None, 64)                8256      \n",
            "_________________________________________________________________\n",
            "activation_4 (Activation)    (None, 64)                0         \n",
            "_________________________________________________________________\n",
            "dropout (Dropout)            (None, 64)                0         \n",
            "_________________________________________________________________\n",
            "dense_1 (Dense)              (None, 64)                4160      \n",
            "_________________________________________________________________\n",
            "activation_5 (Activation)    (None, 64)                0         \n",
            "_________________________________________________________________\n",
            "dropout_1 (Dropout)          (None, 64)                0         \n",
            "_________________________________________________________________\n",
            "dense_2 (Dense)              (None, 29)                1885      \n",
            "_________________________________________________________________\n",
            "activation_6 (Activation)    (None, 29)                0         \n",
            "=================================================================\n",
            "Total params: 273,309\n",
            "Trainable params: 273,309\n",
            "Non-trainable params: 0\n",
            "_________________________________________________________________\n"
          ],
          "name": "stdout"
        }
      ]
    },
    {
      "metadata": {
        "id": "KWoVtNWDgLdW",
        "colab_type": "code",
        "colab": {
          "base_uri": "https://localhost:8080/",
          "height": 1142
        },
        "outputId": "8763733e-f082-431e-a3d4-2efdfdf5236d"
      },
      "cell_type": "code",
      "source": [
        "model.fit(x_train, y_train, batch_size=32, epochs=30, validation_data=(x_test, y_test))"
      ],
      "execution_count": 8,
      "outputs": [
        {
          "output_type": "stream",
          "text": [
            "Train on 69600 samples, validate on 17400 samples\n",
            "WARNING:tensorflow:From /usr/local/lib/python3.6/dist-packages/tensorflow/python/ops/math_ops.py:3066: to_int32 (from tensorflow.python.ops.math_ops) is deprecated and will be removed in a future version.\n",
            "Instructions for updating:\n",
            "Use tf.cast instead.\n",
            "Epoch 1/30\n",
            "69600/69600 [==============================] - 38s 539us/sample - loss: 2.1808 - acc: 0.3031 - val_loss: 0.8897 - val_acc: 0.7021\n",
            "Epoch 2/30\n",
            "69600/69600 [==============================] - 36s 514us/sample - loss: 0.9169 - acc: 0.6706 - val_loss: 0.3663 - val_acc: 0.8768\n",
            "Epoch 3/30\n",
            "69600/69600 [==============================] - 36s 512us/sample - loss: 0.5676 - acc: 0.7928 - val_loss: 0.1722 - val_acc: 0.9440\n",
            "Epoch 4/30\n",
            "69600/69600 [==============================] - 35s 510us/sample - loss: 0.4151 - acc: 0.8526 - val_loss: 0.1805 - val_acc: 0.9361\n",
            "Epoch 5/30\n",
            "69600/69600 [==============================] - 36s 512us/sample - loss: 0.3328 - acc: 0.8861 - val_loss: 0.0773 - val_acc: 0.9791\n",
            "Epoch 6/30\n",
            "69600/69600 [==============================] - 36s 512us/sample - loss: 0.2782 - acc: 0.9094 - val_loss: 0.0565 - val_acc: 0.9810\n",
            "Epoch 7/30\n",
            "69600/69600 [==============================] - 36s 514us/sample - loss: 0.2346 - acc: 0.9242 - val_loss: 0.0889 - val_acc: 0.9745\n",
            "Epoch 8/30\n",
            "69600/69600 [==============================] - 36s 512us/sample - loss: 0.2147 - acc: 0.9330 - val_loss: 0.0511 - val_acc: 0.9859\n",
            "Epoch 9/30\n",
            "69600/69600 [==============================] - 36s 511us/sample - loss: 0.2023 - acc: 0.9376 - val_loss: 0.0312 - val_acc: 0.9912\n",
            "Epoch 10/30\n",
            "69600/69600 [==============================] - 36s 513us/sample - loss: 0.1837 - acc: 0.9442 - val_loss: 0.0468 - val_acc: 0.9856\n",
            "Epoch 11/30\n",
            "69600/69600 [==============================] - 36s 515us/sample - loss: 0.1657 - acc: 0.9480 - val_loss: 0.0236 - val_acc: 0.9931\n",
            "Epoch 12/30\n",
            "69600/69600 [==============================] - 36s 512us/sample - loss: 0.1585 - acc: 0.9515 - val_loss: 0.3721 - val_acc: 0.9200\n",
            "Epoch 13/30\n",
            "69600/69600 [==============================] - 36s 515us/sample - loss: 0.1524 - acc: 0.9538 - val_loss: 0.0206 - val_acc: 0.9940\n",
            "Epoch 14/30\n",
            "69600/69600 [==============================] - 36s 514us/sample - loss: 0.1464 - acc: 0.9559 - val_loss: 0.0246 - val_acc: 0.9939\n",
            "Epoch 15/30\n",
            "69600/69600 [==============================] - 36s 517us/sample - loss: 0.1422 - acc: 0.9573 - val_loss: 0.0258 - val_acc: 0.9940\n",
            "Epoch 16/30\n",
            "69600/69600 [==============================] - 36s 514us/sample - loss: 0.1368 - acc: 0.9588 - val_loss: 0.0132 - val_acc: 0.9961\n",
            "Epoch 17/30\n",
            "69600/69600 [==============================] - 36s 513us/sample - loss: 0.1277 - acc: 0.9619 - val_loss: 0.0113 - val_acc: 0.9966\n",
            "Epoch 18/30\n",
            "69600/69600 [==============================] - 36s 515us/sample - loss: 0.1302 - acc: 0.9611 - val_loss: 0.0146 - val_acc: 0.9963\n",
            "Epoch 19/30\n",
            "69600/69600 [==============================] - 36s 515us/sample - loss: 0.1244 - acc: 0.9627 - val_loss: 0.0260 - val_acc: 0.9932\n",
            "Epoch 20/30\n",
            "69600/69600 [==============================] - 36s 511us/sample - loss: 0.1160 - acc: 0.9658 - val_loss: 0.0190 - val_acc: 0.9957\n",
            "Epoch 21/30\n",
            "69600/69600 [==============================] - 36s 515us/sample - loss: 0.1162 - acc: 0.9651 - val_loss: 0.0143 - val_acc: 0.9961\n",
            "Epoch 22/30\n",
            "69600/69600 [==============================] - 36s 513us/sample - loss: 0.1158 - acc: 0.9657 - val_loss: 0.0197 - val_acc: 0.9956\n",
            "Epoch 23/30\n",
            "69600/69600 [==============================] - 36s 514us/sample - loss: 0.1145 - acc: 0.9666 - val_loss: 0.0151 - val_acc: 0.9960\n",
            "Epoch 24/30\n",
            "69600/69600 [==============================] - 36s 511us/sample - loss: 0.1050 - acc: 0.9684 - val_loss: 0.0078 - val_acc: 0.9976\n",
            "Epoch 25/30\n",
            "69600/69600 [==============================] - 36s 515us/sample - loss: 0.1034 - acc: 0.9691 - val_loss: 0.0185 - val_acc: 0.9960\n",
            "Epoch 26/30\n",
            "69600/69600 [==============================] - 36s 514us/sample - loss: 0.1086 - acc: 0.9687 - val_loss: 0.0139 - val_acc: 0.9970\n",
            "Epoch 27/30\n",
            "69600/69600 [==============================] - 36s 515us/sample - loss: 0.0998 - acc: 0.9700 - val_loss: 0.0092 - val_acc: 0.9981\n",
            "Epoch 28/30\n",
            "69600/69600 [==============================] - 36s 513us/sample - loss: 0.1044 - acc: 0.9698 - val_loss: 0.0109 - val_acc: 0.9971\n",
            "Epoch 29/30\n",
            "69600/69600 [==============================] - 36s 514us/sample - loss: 0.1004 - acc: 0.9712 - val_loss: 0.0145 - val_acc: 0.9973\n",
            "Epoch 30/30\n",
            "69600/69600 [==============================] - 36s 515us/sample - loss: 0.0963 - acc: 0.9719 - val_loss: 0.0288 - val_acc: 0.9948\n"
          ],
          "name": "stdout"
        },
        {
          "output_type": "execute_result",
          "data": {
            "text/plain": [
              "<tensorflow.python.keras.callbacks.History at 0x7fa57d6c0198>"
            ]
          },
          "metadata": {
            "tags": []
          },
          "execution_count": 8
        }
      ]
    },
    {
      "metadata": {
        "id": "nN1Fnv8ditRJ",
        "colab_type": "code",
        "colab": {}
      },
      "cell_type": "code",
      "source": [
        "model.save('sign_language')"
      ],
      "execution_count": 0,
      "outputs": []
    },
    {
      "metadata": {
        "id": "iJ5dw6YIpqGA",
        "colab_type": "code",
        "colab": {
          "base_uri": "https://localhost:8080/",
          "height": 660
        },
        "outputId": "b9ca8600-5227-4305-f62b-0ee901aee5a9"
      },
      "cell_type": "code",
      "source": [
        "CATEGORIES = ['A','B','C','D','del','E','F','G','H','I','J','K','L','M','N','nothing','O','P','Q','R','S','space','T','U','V','W','X','Y','Z']\n",
        "\n",
        "\n",
        "import matplotlib.pyplot as plt\n",
        "import cv2\n",
        "from keras.preprocessing import image\n",
        "from scipy import misc\n",
        "\n",
        "\n",
        "fname = './drive/My Drive/Colab Notebooks/V_test.jpg'  # path to current file\n",
        "\n",
        "actual_image = misc.imread(fname)\n",
        "plt.imshow(actual_image)\n",
        "plt.show()\n",
        "\n",
        "image = cv2.imread(fname,cv2.IMREAD_GRAYSCALE) # convert photo into gray scale\n",
        "print(image.shape)                             # printing current shape\n",
        "image = cv2.resize(image, (50,50))             # resizing into 50,50\n",
        "plt.imshow(image)                              # display image\n",
        "image = image.reshape(1,50,50,1)               # reshaping image into 1,50,50,1\n",
        "\n",
        "model = tf.keras.models.load_model('sign_language')\n",
        "\n",
        "\n",
        "prediction = model.predict([image])   \n",
        "print(prediction)"
      ],
      "execution_count": 40,
      "outputs": [
        {
          "output_type": "stream",
          "text": [
            "/usr/local/lib/python3.6/dist-packages/ipykernel_launcher.py:12: DeprecationWarning: `imread` is deprecated!\n",
            "`imread` is deprecated in SciPy 1.0.0, and will be removed in 1.2.0.\n",
            "Use ``imageio.imread`` instead.\n",
            "  if sys.path[0] == '':\n"
          ],
          "name": "stderr"
        },
        {
          "output_type": "display_data",
          "data": {
            "image/png": "[encoded data removed]",
            "text/plain": [
              "<Figure size 432x288 with 1 Axes>"
            ]
          },
          "metadata": {
            "tags": []
          }
        },
        {
          "output_type": "stream",
          "text": [
            "(200, 200)\n",
            "[[0. 0. 0. 0. 0. 0. 0. 0. 0. 0. 0. 0. 0. 0. 0. 0. 0. 0. 0. 0. 0. 0. 0. 0.\n",
            "  1. 0. 0. 0. 0.]]\n"
          ],
          "name": "stdout"
        },
        {
          "output_type": "display_data",
          "data": {
            "image/png": "[encoded data removed]",
            "text/plain": [
              "<Figure size 432x288 with 1 Axes>"
            ]
          },
          "metadata": {
            "tags": []
          }
        }
      ]
    },
    {
      "metadata": {
        "id": "gIju8TcQ4wX8",
        "colab_type": "code",
        "colab": {
          "base_uri": "https://localhost:8080/",
          "height": 231
        },
        "outputId": "24ebcf7d-5ac5-49e0-94e4-5b309eedce20"
      },
      "cell_type": "code",
      "source": [
        "\n"
      ],
      "execution_count": 38,
      "outputs": [
        {
          "output_type": "stream",
          "text": [
            "[[0. 0. 0. 1. 0. 0. 0. 0. 0. 0. 0. 0. 0. 0. 0. 0. 0. 0. 0. 0. 0. 0. 0. 0.\n",
            "  0. 0. 0. 0. 0.]]\n"
          ],
          "name": "stdout"
        },
        {
          "output_type": "error",
          "ename": "TypeError",
          "evalue": "ignored",
          "traceback": [
            "\u001b[0;31m---------------------------------------------------------------------------\u001b[0m",
            "\u001b[0;31mTypeError\u001b[0m                                 Traceback (most recent call last)",
            "\u001b[0;32m<ipython-input-38-5669d22bf6c0>\u001b[0m in \u001b[0;36m<module>\u001b[0;34m()\u001b[0m\n\u001b[1;32m     16\u001b[0m \u001b[0mprediction\u001b[0m \u001b[0;34m=\u001b[0m \u001b[0mmodel\u001b[0m\u001b[0;34m.\u001b[0m\u001b[0mpredict\u001b[0m\u001b[0;34m(\u001b[0m\u001b[0;34m[\u001b[0m\u001b[0mprepare\u001b[0m\u001b[0;34m(\u001b[0m\u001b[0;34m'./drive/My Drive/Colab Notebooks/D_test.jpg'\u001b[0m\u001b[0;34m)\u001b[0m\u001b[0;34m]\u001b[0m\u001b[0;34m)\u001b[0m\u001b[0;34m\u001b[0m\u001b[0;34m\u001b[0m\u001b[0m\n\u001b[1;32m     17\u001b[0m \u001b[0mprint\u001b[0m\u001b[0;34m(\u001b[0m\u001b[0mprediction\u001b[0m\u001b[0;34m)\u001b[0m  \u001b[0;31m# will be a list in a list.\u001b[0m\u001b[0;34m\u001b[0m\u001b[0;34m\u001b[0m\u001b[0m\n\u001b[0;32m---> 18\u001b[0;31m \u001b[0mprint\u001b[0m\u001b[0;34m(\u001b[0m\u001b[0mCATEGORIES\u001b[0m\u001b[0;34m[\u001b[0m\u001b[0mint\u001b[0m\u001b[0;34m(\u001b[0m\u001b[0mprediction\u001b[0m\u001b[0;34m)\u001b[0m\u001b[0;34m]\u001b[0m\u001b[0;34m)\u001b[0m\u001b[0;34m\u001b[0m\u001b[0;34m\u001b[0m\u001b[0m\n\u001b[0m",
            "\u001b[0;31mTypeError\u001b[0m: only size-1 arrays can be converted to Python scalars"
          ]
        }
      ]
    },
    {
      "metadata": {
        "id": "ktwowbIEi_5K",
        "colab_type": "code",
        "colab": {}
      },
      "cell_type": "code",
      "source": [
        ""
      ],
      "execution_count": 0,
      "outputs": []
    }
  ]
}